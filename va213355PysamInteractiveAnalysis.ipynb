{
 "cells": [
  {
   "cell_type": "markdown",
   "id": "2ba407cb-2549-43d1-9c86-c05f09f296b8",
   "metadata": {},
   "source": [
    "# Domaći zadatak 2: Pysam - CGC Interactive Analysis"
   ]
  },
  {
   "cell_type": "code",
   "execution_count": 2,
   "id": "13f644a0-3cee-44ab-8803-6531435c5705",
   "metadata": {},
   "outputs": [
    {
     "name": "stdout",
     "output_type": "stream",
     "text": [
      "Collecting pysam\n",
      "  Downloading pysam-0.18.0-cp39-cp39-manylinux_2_12_x86_64.manylinux2010_x86_64.whl (15.6 MB)\n",
      "\u001b[K     |████████████████████████████████| 15.6 MB 30.5 MB/s eta 0:00:01\n",
      "\u001b[?25hInstalling collected packages: pysam\n",
      "Successfully installed pysam-0.18.0\n"
     ]
    }
   ],
   "source": [
    "!pip install pysam"
   ]
  },
  {
   "cell_type": "code",
   "execution_count": 3,
   "id": "245ac6a9-02c0-4489-97a9-eae6321ea32f",
   "metadata": {},
   "outputs": [],
   "source": [
    "import pysam as ps\n",
    "\n"
   ]
  },
  {
   "cell_type": "markdown",
   "id": "975d475e-713a-4a7c-8ed0-6bc5977bf549",
   "metadata": {},
   "source": [
    "Otvaranja fajla merged-tumor.bam u kom se nalaze read-ovi nastali sekvenciranjem egzona hromozoma uzetih iz ćelija malignog tumora dojke (CCLE-HCC1143-DNA-08), s ciljem ispitivanja mutacija\n",
    "na genu BRCA1."
   ]
  },
  {
   "cell_type": "code",
   "execution_count": 4,
   "id": "97699c19-c163-4d5c-bea9-56487d14af91",
   "metadata": {
    "tags": []
   },
   "outputs": [
    {
     "name": "stdout",
     "output_type": "stream",
     "text": [
      "C0HVYACXX120402:7:1207:5722:57044\t1187\t#20\t9483249\t27\t76M\t#20\t9483382\t209\tTTTTCAAACAGTATCTATGCCTGCCAAATGTGAACATATAAAAAAAAACCAGAATGTGCCATTCTGATTTAAACTG\tarray('B', [28, 28, 27, 29, 31, 30, 31, 31, 29, 31, 35, 30, 29, 31, 34, 30, 29, 23, 41, 32, 20, 30, 29, 34, 34, 29, 30, 31, 30, 30, 30, 33, 33, 26, 39, 12, 25, 19, 32, 30, 35, 28, 35, 33, 23, 33, 35, 36, 30, 38, 33, 41, 34, 35, 31, 33, 23, 30, 30, 36, 27, 32, 29, 34, 35, 41, 33, 31, 33, 29, 32, 32, 31, 31, 31, 34])\t[('XA', 'GL000217.1,-110754,76M,1;'), ('BD', 'NNNNNNNNNNNNNNNNNNNNNNNNNNNNNNNNNNNNNNNNNNNNNNNNNNNNNNNNNNNNNNNNNNNNNNNNNNNN'), ('MD', '76'), ('RG', '1'), ('BI', 'NNNNNNNNNNNNNNNNNNNNNNNNNNNNNNNNNNNNNNNNNNNNNNNNNNNNNNNNNNNNNNNNNNNNNNNNNNNN'), ('NM', 0), ('MQ', 27), ('AS', 76), ('XS', 71)] \n",
      "\n",
      "D0RE2ACXX120401:1:2105:2631:113383\t163\t#20\t9483249\t27\t76M\t#20\t9483382\t209\tTTTTCAAACAGTATCTATGCCTGCCAAATGTGAACATATAAAAAAAAACCAGAATGTGCCATTCTGATTTAAACTG\tarray('B', [28, 29, 27, 30, 31, 30, 31, 31, 34, 31, 40, 30, 29, 34, 41, 34, 29, 33, 39, 40, 37, 36, 30, 39, 36, 34, 29, 35, 26, 41, 31, 33, 31, 35, 39, 34, 34, 29, 34, 31, 36, 37, 35, 35, 33, 35, 36, 35, 40, 37, 34, 39, 30, 29, 28, 15, 19, 30, 36, 36, 36, 33, 33, 38, 34, 37, 33, 30, 33, 33, 29, 34, 32, 30, 31, 29])\t[('XA', 'GL000217.1,-110754,76M,1;'), ('BD', 'NNNNNNNNNNNNNNNNNNNNNNNNNNNNNNNNNNNNNNNNNNNNNNNNNNNNNNNNNNNNNNNNNNNNNNNNNNNN'), ('MD', '76'), ('RG', '1'), ('BI', 'NNNNNNNNNNNNNNNNNNNNNNNNNNNNNNNNNNNNNNNNNNNNNNNNNNNNNNNNNNNNNNNNNNNNNNNNNNNN'), ('NM', 0), ('MQ', 27), ('AS', 76), ('XS', 71)] \n",
      "\n",
      "C0HVYACXX120402:5:1304:16767:148118\t99\t#20\t9483250\t27\t76M\t#20\t9483361\t187\tTTTCAAACAGTATCTATGCCTGCCAAATGTGAACATATAAAAAAAAACCAGAATGTGCCATTCTGATTTAAACTGC\tarray('B', [32, 28, 28, 33, 31, 35, 36, 38, 31, 42, 21, 32, 29, 37, 35, 31, 32, 41, 40, 37, 36, 40, 40, 38, 34, 37, 36, 33, 41, 31, 41, 34, 36, 40, 35, 33, 32, 32, 32, 37, 37, 35, 37, 37, 36, 37, 35, 40, 38, 35, 41, 35, 37, 32, 41, 31, 36, 39, 37, 33, 32, 34, 38, 37, 39, 34, 31, 35, 33, 31, 35, 34, 35, 30, 29, 34])\t[('XA', 'GL000217.1,-110753,76M,1;'), ('BD', 'NNNNNNNNNNNNNNNNNNNNNNNNNNNNNNNNNNNNNNNNNNNNNNNNNNNNNNNNNNNNNNNNNNNNNNNNNNNN'), ('MD', '76'), ('RG', '1'), ('BI', 'NNNNNNNNNNNNNNNNNNNNNNNNNNNNNNNNNNNNNNNNNNNNNNNNNNNNNNNNNNNNNNNNNNNNNNNNNNNN'), ('NM', 0), ('MQ', 27), ('AS', 76), ('XS', 71)] \n",
      "\n",
      "C0HVYACXX120402:8:1101:6314:155036\t99\t#20\t9483264\t51\t76M\t#20\t9483294\t106\tTATGCCTGCCAAATGTGAACATATAAAAAAAAACCAGAATGTGCCATTCTGATTTAAACTGCTTATTAGTTAAAAC\tarray('B', [32, 29, 28, 34, 36, 37, 36, 42, 38, 37, 34, 36, 36, 31, 40, 31, 42, 34, 36, 40, 34, 33, 31, 33, 30, 36, 35, 37, 35, 36, 36, 36, 36, 40, 37, 34, 42, 34, 36, 33, 41, 33, 41, 40, 37, 35, 32, 34, 41, 36, 41, 35, 32, 35, 34, 31, 37, 37, 39, 37, 43, 39, 37, 31, 31, 31, 33, 31, 41, 30, 34, 31, 32, 30, 31, 34])\t[('XA', 'GL000217.1,-110739,76M,1;'), ('BD', 'NNNNNNNNNNNNNNNNNNNNNNNNNNNNNNNNNNNNNNNNNNNNNNNNNNNNNNNNNNNNNNNNNNNNNNNNNNNN'), ('MD', '76'), ('RG', '1'), ('BI', 'NNNNNNNNNNNNNNNNNNNNNNNNNNNNNNNNNNNNNNNNNNNNNNNNNNNNNNNNNNNNNNNNNNNNNNNNNNNN'), ('NM', 0), ('MQ', 49), ('AS', 76), ('XS', 71)] \n",
      "\n",
      "D0RE2ACXX120401:4:2106:2222:188475\t99\t#20\t9483267\t27\t76M\t#20\t9483344\t153\tGCCTGCCAAATGTGAACATATAAAAAAAAACCAGAATGTGCCATTCTGATTTAAACTGCTTATTAGTTAAAACCCT\tarray('B', [32, 32, 31, 33, 36, 37, 37, 35, 35, 36, 31, 41, 31, 36, 33, 36, 41, 34, 31, 31, 31, 32, 36, 35, 36, 37, 36, 35, 35, 36, 41, 37, 34, 39, 34, 36, 31, 41, 31, 40, 40, 37, 35, 33, 33, 41, 36, 41, 33, 31, 34, 35, 32, 37, 37, 40, 37, 40, 39, 37, 31, 30, 32, 31, 31, 36, 31, 35, 32, 37, 35, 35, 35, 30, 31, 34])\t[('XA', 'GL000217.1,-110736,76M,1;'), ('BD', 'NNNNNNNNNNNNNNNNNNNNNNNNNNNNNNNNNNNNNNNNNNNNNNNNNNNNNNNNNNNNNNNNNNNNNNNNNNNN'), ('MD', '76'), ('RG', '1'), ('BI', 'NNNNNNNNNNNNNNNNNNNNNNNNNNNNNNNNNNNNNNNNNNNNNNNNNNNNNNNNNNNNNNNNNNNNNNNNNNNN'), ('NM', 0), ('MQ', 27), ('AS', 76), ('XS', 71)] \n",
      "\n"
     ]
    }
   ],
   "source": [
    "path = \"/sbgenomics/project-files/merged-tumor.bam\"\n",
    "index_file_path=\"/sbgenomics/project-files/merged-tumor.bam.bai\"\n",
    "bam_file = ps.AlignmentFile(path, \"rb\")\n",
    "\n",
    "#!rm file.txt\n",
    "\n",
    "#bam_file.check_index()\n",
    "\n",
    "#ispisivanje prvih 5 alajnmenta u bam_fajlu\n",
    "for alignment in bam_file.head(5):\n",
    "        print(alignment, \"\\n\")\n",
    "\n",
    "\n",
    "    "
   ]
  },
  {
   "cell_type": "markdown",
   "id": "201f5cfa-089e-4806-b63d-5dfcda6a49d9",
   "metadata": {
    "tags": []
   },
   "source": [
    "## 1. Broj nemapiranih read-ova u fajlu"
   ]
  },
  {
   "cell_type": "code",
   "execution_count": 6,
   "id": "1f46838f-be8a-4099-ba74-e90219e2b274",
   "metadata": {},
   "outputs": [
    {
     "name": "stdout",
     "output_type": "stream",
     "text": [
      "Broj nemapiranih read-ova:  17765\n"
     ]
    }
   ],
   "source": [
    "unmapped_reads_num = 0\n",
    "bam_file = ps.AlignmentFile(path, \"rb\")\n",
    "\n",
    "for read in bam_file:\n",
    "    if read.is_unmapped:\n",
    "        unmapped_reads_num = unmapped_reads_num + 1\n",
    "\n",
    "print(\"Broj nemapiranih read-ova: \", unmapped_reads_num)"
   ]
  },
  {
   "cell_type": "markdown",
   "id": "c71a8fbd-7f1c-4718-83e8-3f7afa9d1544",
   "metadata": {},
   "source": [
    "## 2. Ukupan broj read-ova u fajlu"
   ]
  },
  {
   "cell_type": "code",
   "execution_count": 7,
   "id": "08cddfc8-f51f-419e-80d6-ec84e82252e6",
   "metadata": {},
   "outputs": [
    {
     "name": "stdout",
     "output_type": "stream",
     "text": [
      "Ukupan broj read-ova u fajlu:  2921629\n"
     ]
    }
   ],
   "source": [
    "bam_file = ps.AlignmentFile(path, \"rb\")\n",
    "reads_num = bam_file.count(until_eof=True)\n",
    "\n",
    "print(\"Ukupan broj read-ova u fajlu: \", reads_num)"
   ]
  },
  {
   "cell_type": "markdown",
   "id": "ae60ef53-d3fa-425d-9729-9100313250f7",
   "metadata": {},
   "source": [
    "## 3. Broj read-ova sa kvalitetom mapiranja 0"
   ]
  },
  {
   "cell_type": "code",
   "execution_count": 8,
   "id": "9dc3a270-6ee7-4087-abeb-a66b7de9e47e",
   "metadata": {},
   "outputs": [
    {
     "name": "stdout",
     "output_type": "stream",
     "text": [
      "Broj read-ova sa kvalitetom mapiranja 0:  126628\n"
     ]
    }
   ],
   "source": [
    "bam_file = ps.AlignmentFile(path, \"rb\")\n",
    "zero_mapping_quality_reads_num = 0\n",
    "\n",
    "for read in bam_file:\n",
    "    if read.mapping_quality == 0:\n",
    "        zero_mapping_quality_reads_num = zero_mapping_quality_reads_num + 1\n",
    "print(\"Broj read-ova sa kvalitetom mapiranja 0: \", zero_mapping_quality_reads_num)"
   ]
  },
  {
   "cell_type": "markdown",
   "id": "7db57901-d386-4ac7-8ffc-3dbfcbcf828c",
   "metadata": {},
   "source": [
    "## 4. Prosečan kvalitet mapiranja svih read-ova"
   ]
  },
  {
   "cell_type": "code",
   "execution_count": 9,
   "id": "112008fe-2bf5-4ea4-83a9-24dd7aa1f2e1",
   "metadata": {},
   "outputs": [
    {
     "name": "stdout",
     "output_type": "stream",
     "text": [
      "Prosecan kvalitet mapiranja svih read-ova:  55.91\n"
     ]
    }
   ],
   "source": [
    "bam_file = ps.AlignmentFile(path, \"rb\")\n",
    "average_mapping_quality_all_reads = 0\n",
    "mapping_quality_sum = 0\n",
    "\n",
    "for read in bam_file:\n",
    "    mapping_quality_sum = mapping_quality_sum + read.mapping_quality\n",
    "\n",
    "print(\"Prosecan kvalitet mapiranja svih read-ova: \", round(mapping_quality_sum/reads_num,2))\n",
    "    "
   ]
  },
  {
   "cell_type": "markdown",
   "id": "18974a4f-e0ec-4b94-8483-de63274652f3",
   "metadata": {},
   "source": [
    "## 5. Prosečan kvalitet mapiranja read-ova kada se isfiltriraju read-ovi sa kvalitetom mapiranja 0"
   ]
  },
  {
   "cell_type": "code",
   "execution_count": 10,
   "id": "0d403381-7f43-48d1-af4e-2a107933d940",
   "metadata": {},
   "outputs": [
    {
     "name": "stdout",
     "output_type": "stream",
     "text": [
      "Prosecan kvalitet mapiranja read-ova sa kvalitetom mapiranja vecim od 0:  58.45\n"
     ]
    }
   ],
   "source": [
    "bam_file = ps.AlignmentFile(path, \"rb\")\n",
    "mapping_quality_sum_no_zero = 0\n",
    "\n",
    "for read in bam_file:\n",
    "    if read.mapping_quality != 0:\n",
    "        mapping_quality_sum_no_zero = mapping_quality_sum_no_zero + read.mapping_quality\n",
    "print(\"Prosecan kvalitet mapiranja read-ova sa kvalitetom mapiranja vecim od 0: \", round(mapping_quality_sum_no_zero/(reads_num - zero_mapping_quality_reads_num),2))\n",
    "        "
   ]
  },
  {
   "cell_type": "code",
   "execution_count": null,
   "id": "6952ea81-4ec9-4d84-8a20-8112faef7b44",
   "metadata": {},
   "outputs": [],
   "source": [
    "bam_file.close()"
   ]
  }
 ],
 "metadata": {
  "kernelspec": {
   "display_name": "Python 3 (ipykernel)",
   "language": "python",
   "name": "python3"
  },
  "language_info": {
   "codemirror_mode": {
    "name": "ipython",
    "version": 3
   },
   "file_extension": ".py",
   "mimetype": "text/x-python",
   "name": "python",
   "nbconvert_exporter": "python",
   "pygments_lexer": "ipython3",
   "version": "3.9.6"
  }
 },
 "nbformat": 4,
 "nbformat_minor": 5
}
